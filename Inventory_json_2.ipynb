{
 "cells": [
  {
   "cell_type": "code",
   "execution_count": null,
   "id": "3f77da4b-ccf3-4053-a3f0-047701a9af00",
   "metadata": {},
   "outputs": [],
   "source": [
    "#here we will add more functionalities in our inventory management system project using json(dictionary)\n",
    "# firstly we describe our data as dictionary using json\n",
    "# then we will create a menu where user can easily know about available products \n",
    "# as per user choice he or she will buy product \n",
    "# then bill will generate \n",
    "# now everytime when customer is generating something our invenotry will get updated , and it will happen with the help of json\n",
    "# after importing json library, firstly to save the updated records we use json.dumps() , but it save data as a string \n",
    "# then we will create another file where we can store our updated data \n",
    "# then after saving the updated data for user access using loads() function we can convert the data as dictionary \n",
    "# but now we will convert our user_pr_id as string as after using loads then our P_id converted as string"
   ]
  },
  {
   "cell_type": "code",
   "execution_count": 1,
   "id": "4a87d403-c842-44fc-95f2-31d49da28960",
   "metadata": {},
   "outputs": [],
   "source": [
    "record={\n",
    "    1001:{'P_Name': 'Dairy Milk','P_size':'Medium', 'P_Price': 150 ,'P_Qty':1000, 'P_MFD':'10/24', 'P_EXD':'Best before 12 months'},\n",
    "    1002:{'P_Name': '5 Star','P_size':'Large', 'P_Price': 20 ,'P_Qty':3000, 'P_MFD':'12/23', 'P_EXD':'Best before 24 months'},\n",
    "    1003:{'P_Name': 'Perk', 'P_size':'Small', 'P_Price': 10 ,'P_Qty':2000, 'P_MFD':'8/24', 'P_EXD':'Best before 20 months'},\n",
    "    1004:{'P_Name': 'Galaxy','P_size':'Medium' ,'P_Price': 50 ,'P_Qty':1500, 'P_MFD':'11/23', 'P_EXD':'Best before 8 months'},\n",
    "    1005:{'P_Name': 'Perk', 'P_size':'Small', 'P_Price': 10 ,'P_Qty':2000, 'P_MFD':'8/24', 'P_EXD':'Best before 20 months'},\n",
    "    1006:{'P_Name': 'Parle G','P_size':'Small' ,'P_Price': 10 ,'P_Qty':5000, 'P_MFD':'1/24', 'P_EXD':'Best before 8 months'},\n",
    "    1007:{'P_Name': 'Pan Cake','P_size':'Medium' ,'P_Price': 20 ,'P_Qty':3000, 'P_MFD':'1/24', 'P_EXD':'Best before 8 months'}\n",
    "\n",
    "}\n",
    "\n"
   ]
  },
  {
   "cell_type": "code",
   "execution_count": 9,
   "id": "755fa850-5f2c-429a-95fd-29177dd95563",
   "metadata": {},
   "outputs": [
    {
     "name": "stdout",
     "output_type": "stream",
     "text": [
      "Our Menu items details are as follows: \n",
      "--------------MENU---------------\n",
      "1001 : Dairy Milk | Medium | 150 Rs | 700 | 10/24 | Best before 12 months\n",
      "1002 : 5 Star | Large | 20 Rs | 1997 | 12/23 | Best before 24 months\n",
      "1003 : Perk | Small | 10 Rs | 2000 | 8/24 | Best before 20 months\n",
      "1004 : Galaxy | Medium | 50 Rs | 747 | 11/23 | Best before 8 months\n",
      "1005 : Perk | Small | 10 Rs | 1200 | 8/24 | Best before 20 months\n",
      "1006 : Parle G | Small | 10 Rs | 5000 | 1/24 | Best before 8 months\n",
      "1007 : Pan Cake | Medium | 20 Rs | 3000 | 1/24 | Best before 8 months\n",
      "---------------------------------\n",
      "\n",
      "\n",
      "\n"
     ]
    },
    {
     "name": "stdin",
     "output_type": "stream",
     "text": [
      "Enter your Name:  Aman\n",
      "Enter your Mobile Number : 24356765432\n",
      "Enter your Email ID:  aman1@gmail.com\n"
     ]
    },
    {
     "name": "stdout",
     "output_type": "stream",
     "text": [
      "----------------------------------\n",
      "              BILL                \n",
      "\n",
      "\n"
     ]
    },
    {
     "name": "stdin",
     "output_type": "stream",
     "text": [
      "Enter the product ID you want to purchase:  1006\n",
      "Enter the Quantity of Parle G you want to purchase:  6000\n"
     ]
    },
    {
     "name": "stdout",
     "output_type": "stream",
     "text": [
      "Sorry! We don't have enough quantity for this product.\n",
      " We are left with only 5000 pcs of Parle G (Small )\n"
     ]
    },
    {
     "name": "stdin",
     "output_type": "stream",
     "text": [
      "Do you want to buy it (y/n)? y\n"
     ]
    },
    {
     "name": "stdout",
     "output_type": "stream",
     "text": [
      "Product Name: Parle G Small\n",
      "Product Price (Rs): 10 Rs\n",
      "Quantity: 5000\n",
      "Price: 50000\n"
     ]
    },
    {
     "name": "stdin",
     "output_type": "stream",
     "text": [
      "Do you want to add more items to your basket (yes/no) no\n"
     ]
    },
    {
     "name": "stdout",
     "output_type": "stream",
     "text": [
      "\n",
      "\n",
      "----------------------------------\n",
      "Total Billing amount: 50000 Rs\n",
      "\n",
      "\n",
      "---------Thank You For Shopping--------\n",
      "------------------------------------\n",
      "------Happy Customer Happy Us--------\n",
      "\n",
      "\n",
      "********************************************************************\n",
      "\n",
      "\n",
      "Inventory Updated .\n",
      "Customer Data Updated .\n"
     ]
    }
   ],
   "source": [
    "import json\n",
    "import time\n",
    "# now for accessing new record \n",
    "\n",
    "fd=open(\"Record.json\",\"r\")\n",
    "new_record=fd.read()\n",
    "fd.close()\n",
    "record=json.loads(new_record)\n",
    "\n",
    "\n",
    "print(\"Our Menu items details are as follows: \")\n",
    "print(\"--------------MENU---------------\")\n",
    "for i in record:\n",
    "    print(i,\":\",record[i]['P_Name'],\"|\",record[i]['P_size'],\"|\",record[i]['P_Price'],\"Rs\",\"|\",record[i]['P_Qty'],\"|\",record[i]['P_MFD'],\"|\",record[i]['P_EXD'])\n",
    "\n",
    "print(\"---------------------------------\")\n",
    "\n",
    "print(\"\\n\\n\")\n",
    "\n",
    "user_name=input(\"Enter your Name: \")\n",
    "user_mobile=int(input(\"Enter your Mobile Number :\")) \n",
    "user_email=input(\"Enter your Email ID: \")\n",
    "\n",
    "user_wish=\"yes\"\n",
    "total=0\n",
    "\n",
    "\n",
    "print(\"----------------------------------\")\n",
    "print(\"              BILL                \")\n",
    "print(\"\\n\")\n",
    "\n",
    "while( user_wish==\"yes\"):\n",
    "    user_pr_id=input(\"Enter the product ID you want to purchase: \")\n",
    "    user_pr_qty=int(input(f\"Enter the Quantity of {record[user_pr_id]['P_Name']} you want to purchase: \"))\n",
    "\n",
    "    if(record[user_pr_id]['P_Qty']>=user_pr_qty):\n",
    "        print(f\"Product Name: {record[user_pr_id]['P_Name']} {record[user_pr_id]['P_size']}\" )   \n",
    "        print(f\"Product Price (Rs): {record[user_pr_id]['P_Price']} Rs\")\n",
    "        print(f\"Quantity: {user_pr_qty}\")\n",
    "        print(f\"Price: {record[user_pr_id]['P_Price'] * user_pr_qty}\")\n",
    "        total+= record[user_pr_id]['P_Price'] * user_pr_qty\n",
    "        record[user_pr_id]['P_Qty']= record[user_pr_id]['P_Qty'] - user_pr_qty\n",
    "\n",
    "        user_wish=input(\"Do you want to add more items to your basket (yes/no)\")\n",
    "       \n",
    "    else:\n",
    "        print(\"Sorry! We don't have enough quantity for this product.\")\n",
    "        print(f\" We are left with only {record[user_pr_id]['P_Qty']} pcs of {record[user_pr_id]['P_Name']} ({record[user_pr_id]['P_size']} )\")\n",
    "        user_choice=input(\"Do you want to buy it (y/n)?\")\n",
    "\n",
    "        if(user_choice==\"y\" or user_choice==\"Y\"):\n",
    "            print(f\"Product Name: {record[user_pr_id]['P_Name']} {record[user_pr_id]['P_size']}\" )   \n",
    "            print(f\"Product Price (Rs): {record[user_pr_id]['P_Price']} Rs\")\n",
    "            print(f\"Quantity: {record[user_pr_id]['P_Qty']}\")\n",
    "            print(f\"Price: {record[user_pr_id]['P_Price'] * record[user_pr_id]['P_Qty']}\")\n",
    "            total+= record[user_pr_id]['P_Price'] * record[user_pr_id]['P_Qty']\n",
    "            record[user_pr_id]['P_Qty']= 0\n",
    "\n",
    "            user_wish=input(\"Do you want to add more items to your basket (yes/no)\")\n",
    "\n",
    "        else:\n",
    "            print(\"Ok! Please continue your shopping\")\n",
    "            user_wish=input(\"Do you want to add more items to your basket (yes/no)\")\n",
    "\n",
    "            \n",
    "        \n",
    "\n",
    "print(\"\\n\")\n",
    "print(\"----------------------------------\")\n",
    "\n",
    "print(f\"Total Billing amount: {total} Rs\")\n",
    "\n",
    "print(\"\\n\")\n",
    "print(\"---------Thank You For Shopping--------\")\n",
    "print(\"------------------------------------\")\n",
    "print(\"------Happy Customer Happy Us--------\")\n",
    "print(\"\\n\")\n",
    "print(\"********************************************************************\")\n",
    "\n",
    "\n",
    "updated_record= json.dumps(record)\n",
    "\n",
    "fd=open(\"Record.json\",\"w\")\n",
    "fd.write(updated_record)\n",
    "fd.close()\n",
    "\n",
    "\n",
    "fd=open(\"sales.txt\",\"a\")\n",
    "fd.write(f\"Customer Name: {user_name}\\n\")\n",
    "fd.write(f\"Customer Mobile number: {user_mobile}\\n\")\n",
    "fd.write(f\"Customer Email Id: {user_email}\\n\")\n",
    "fd.write(f\"Total Billing Amount: {total}\\n\")\n",
    "fd.write(f\"Purchasing Time: {time.ctime()}\\n\\n\")\n",
    "fd.close()\n",
    "\n",
    "print(\"\\n\")\n",
    "print(\"Inventory Updated .\")\n",
    "print(\"Customer Data Updated .\")\n",
    "\n",
    "\n",
    "\n"
   ]
  },
  {
   "cell_type": "code",
   "execution_count": null,
   "id": "858d3de1-493a-4d95-a158-05b30e2738f9",
   "metadata": {},
   "outputs": [],
   "source": []
  }
 ],
 "metadata": {
  "kernelspec": {
   "display_name": "Python 3 (ipykernel)",
   "language": "python",
   "name": "python3"
  },
  "language_info": {
   "codemirror_mode": {
    "name": "ipython",
    "version": 3
   },
   "file_extension": ".py",
   "mimetype": "text/x-python",
   "name": "python",
   "nbconvert_exporter": "python",
   "pygments_lexer": "ipython3",
   "version": "3.12.4"
  }
 },
 "nbformat": 4,
 "nbformat_minor": 5
}
